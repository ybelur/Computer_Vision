{
 "cells": [
  {
   "cell_type": "markdown",
   "metadata": {},
   "source": [
    "# Coursework 1: Image filtering\n",
    "\n",
    "In this coursework you will practice techniques for image filtering. The coursework includes coding questions and written questions. Please read both the text and the code in this notebook to get an idea what you are expected to implement.\n",
    "\n",
    "## What to do?\n",
    "\n",
    "* Complete and run the code using `jupyter-lab` or `jupyter-notebook` to get the results.\n",
    "\n",
    "* Export (File | Save and Export Notebook As...) the notebook as a PDF file, which contains your code, results and answers, and upload the PDF file onto [Scientia](https://scientia.doc.ic.ac.uk).\n",
    "\n",
    "* Instead of clicking the Export button, you can also run the following command instead: `jupyter nbconvert coursework_01_solution.ipynb --to pdf`\n",
    "\n",
    "* If Jupyter complains about some problems in exporting, it is likely that pandoc (https://pandoc.org/installing.html) or latex is not installed, or their paths have not been included. You can install the relevant libraries and retry. Alternatively, use the Print function of your browser to export the PDF file.\n",
    "\n",
    "* If Jupyter-lab does not work for you at the end (we hope not), you can use Google Colab to write the code and export the PDF file.\n",
    "\n",
    "## Dependencies:\n",
    "\n",
    "You need to install Jupyter-Lab (https://jupyterlab.readthedocs.io/en/stable/getting_started/installation.html) and other libraries used in this coursework, such as by running the command:\n",
    "`pip3 install [package_name]`\n"
   ]
  },
  {
   "cell_type": "code",
   "execution_count": null,
   "metadata": {},
   "outputs": [],
   "source": [
    "# Import libaries (provided)\n",
    "import imageio.v3 as imageio\n",
    "import numpy as np\n",
    "import matplotlib.pyplot as plt\n",
    "import noise\n",
    "import scipy\n",
    "import scipy.signal\n",
    "import math\n",
    "import time"
   ]
  },
  {
   "cell_type": "markdown",
   "metadata": {},
   "source": [
    "## 1. Moving average filter (20 points).\n",
    "\n",
    "Read the provided input image, add noise to the image and design a moving average filter for denoising.\n",
    "\n",
    "You are expected to design the kernel of the filter and then perform 2D image filtering using the function `scipy.signal.convolve2d()`."
   ]
  },
  {
   "cell_type": "code",
   "execution_count": null,
   "metadata": {},
   "outputs": [],
   "source": [
    "# Read the image (provided)\n",
    "image = imageio.imread('campus_snow.jpg')\n",
    "plt.imshow(image, cmap='gray')\n",
    "plt.gcf().set_size_inches(8, 8)"
   ]
  },
  {
   "cell_type": "code",
   "execution_count": null,
   "metadata": {},
   "outputs": [],
   "source": [
    "# Corrupt the image with Gaussian noise (provided)\n",
    "image_noisy = noise.add_noise(image, 'gaussian')\n",
    "plt.imshow(image_noisy, cmap='gray')\n",
    "plt.gcf().set_size_inches(8, 8)"
   ]
  },
  {
   "cell_type": "markdown",
   "metadata": {},
   "source": [
    "### Note: from now on, please use the noisy image as the input for the filters.\n",
    "\n",
    "### 1.1 Filter the noisy image with a 3x3 moving average filter. Show the filtering results."
   ]
  },
  {
   "cell_type": "code",
   "execution_count": null,
   "metadata": {},
   "outputs": [],
   "source": [
    "# Design the filter h\n",
    "### Insert your code ###\n",
    "h = ...\n",
    "\n",
    "# Convolve the corrupted image with h using scipy.signal.convolve2d function\n",
    "### Insert your code ###\n",
    "image_filtered = ...\n",
    "\n",
    "# Print the filter (provided)\n",
    "print('Filter h:')\n",
    "print(h)\n",
    "\n",
    "# Display the filtering result (provided)\n",
    "plt.imshow(image_filtered, cmap='gray')\n",
    "plt.gcf().set_size_inches(8, 8)"
   ]
  },
  {
   "cell_type": "markdown",
   "metadata": {},
   "source": [
    "### 1.2 Filter the noisy image with a 11x11 moving average filter."
   ]
  },
  {
   "cell_type": "code",
   "execution_count": null,
   "metadata": {},
   "outputs": [],
   "source": [
    "# Design the filter h\n",
    "### Insert your code ###\n",
    "h = ...\n",
    "\n",
    "# Convolve the corrupted image with h using scipy.signal.convolve2d function\n",
    "### Insert your code ###\n",
    "image_filtered = ...\n",
    "\n",
    "# Print the filter (provided)\n",
    "print('Filter h:')\n",
    "print(h)\n",
    "\n",
    "# Display the filtering result (provided)\n",
    "plt.imshow(image_filtered, cmap='gray')\n",
    "plt.gcf().set_size_inches(8, 8)"
   ]
  },
  {
   "cell_type": "markdown",
   "metadata": {},
   "source": [
    "### 1.3 Comment on the filtering results. How do different kernel sizes influence the filtering results?"
   ]
  },
  {
   "cell_type": "markdown",
   "metadata": {},
   "source": [
    "### Insert your answer ###\n"
   ]
  },
  {
   "cell_type": "markdown",
   "metadata": {},
   "source": [
    "## 2. Edge detection (56 points).\n",
    "\n",
    "Perform edge detection using Sobel filtering, as well as Gaussian + Sobel filtering."
   ]
  },
  {
   "cell_type": "markdown",
   "metadata": {},
   "source": [
    "### 2.1 Implement 3x3 Sobel filters and convolve with the noisy image."
   ]
  },
  {
   "cell_type": "code",
   "execution_count": null,
   "metadata": {},
   "outputs": [],
   "source": [
    "# Design the filters\n",
    "### Insert your code ###\n",
    "sobel_x = ...\n",
    "sobel_y = ...\n",
    "\n",
    "# Image filtering\n",
    "### Insert your code ###\n",
    "\n",
    "# Calculate the gradient magnitude\n",
    "### Insert your code ###\n",
    "\n",
    "# Print the filters (provided)\n",
    "print('sobel_x:')\n",
    "print(sobel_x)\n",
    "print('sobel_y:')\n",
    "print(sobel_y)\n",
    "\n",
    "# Display the magnitude map (provided)\n",
    "plt.imshow(grad_mag, cmap='gray')\n",
    "plt.gcf().set_size_inches(8, 8)"
   ]
  },
  {
   "cell_type": "markdown",
   "metadata": {},
   "source": [
    "### 2.2 Implement a function that generates a 2D Gaussian filter given the parameter $\\sigma$."
   ]
  },
  {
   "cell_type": "code",
   "execution_count": null,
   "metadata": {},
   "outputs": [],
   "source": [
    "# Design the Gaussian filter\n",
    "def gaussian_filter_2d(sigma):\n",
    "    # sigma: the parameter sigma in the Gaussian kernel (unit: pixel)\n",
    "    #\n",
    "    # return: a 2D array for the Gaussian kernel\n",
    "    \n",
    "    ### Insert your code ###\n",
    "    h = ...\n",
    "    return h\n",
    "\n",
    "# Visualise the Gaussian filter when sigma = 5 pixel (provided)\n",
    "sigma = 5\n",
    "h = gaussian_filter_2d(sigma)\n",
    "plt.imshow(h)"
   ]
  },
  {
   "cell_type": "markdown",
   "metadata": {},
   "source": [
    "### 2.3 Perform Gaussian smoothing ($\\sigma$ = 5 pixels) and evaluate the computational time for Gaussian smoothing. After that, perform Sobel filtering and show the gradient magintude map."
   ]
  },
  {
   "cell_type": "code",
   "execution_count": null,
   "metadata": {},
   "outputs": [],
   "source": [
    "# Construct the Gaussian filter\n",
    "### Insert your code ###\n",
    "\n",
    "# Perform Gaussian smoothing and count time\n",
    "### Insert your code ###\n",
    "\n",
    "# Image filtering\n",
    "### Insert your code ###\n",
    "\n",
    "# Calculate the gradient magnitude\n",
    "### Insert your code ###\n",
    "\n",
    "# Display the gradient magnitude map (provided)\n",
    "plt.imshow(grad_mag, cmap='gray', vmin=0, vmax=100)\n",
    "plt.gcf().set_size_inches(8, 8)"
   ]
  },
  {
   "cell_type": "markdown",
   "metadata": {},
   "source": [
    "### 2.4 Implement a function that generates a 1D Gaussian filter given the parameter $\\sigma$. Generate 1D Gaussian filters along x-axis and y-axis respectively."
   ]
  },
  {
   "cell_type": "code",
   "execution_count": null,
   "metadata": {},
   "outputs": [],
   "source": [
    "# Design the Gaussian filter\n",
    "def gaussian_filter_1d(sigma):\n",
    "    # sigma: the parameter sigma in the Gaussian kernel (unit: pixel)\n",
    "    #\n",
    "    # return: a 1D array for the Gaussian kernel\n",
    "    \n",
    "    ### Insert your code ###\n",
    "    h = ...\n",
    "    return h\n",
    "\n",
    "# sigma = 5 pixel (provided)\n",
    "sigma = 5\n",
    "\n",
    "# The Gaussian filter along x-axis. Its shape is (1, sz).\n",
    "### Insert your code ###\n",
    "h_x = ...\n",
    "\n",
    "# The Gaussian filter along y-axis. Its shape is (sz, 1).\n",
    "### Insert your code ###\n",
    "h_y = ...\n",
    "\n",
    "# Visualise the filters (provided)\n",
    "plt.subplot(1, 2, 1)\n",
    "plt.imshow(h_x)\n",
    "plt.subplot(1, 2, 2)\n",
    "plt.imshow(h_y)"
   ]
  },
  {
   "cell_type": "markdown",
   "metadata": {},
   "source": [
    "### 2.6 Perform Gaussian smoothing ($\\sigma$ = 5 pixels) using two separable filters and evaluate the computational time for separable Gaussian filtering. After that, perform Sobel filtering, show the gradient magnitude map and check whether it is the same as the previous one without separable filtering."
   ]
  },
  {
   "cell_type": "code",
   "execution_count": null,
   "metadata": {},
   "outputs": [],
   "source": [
    "# Perform separable Gaussian smoothing and count time\n",
    "### Insert your code ###\n",
    "\n",
    "# Image filtering\n",
    "### Insert your code ###\n",
    "\n",
    "# Calculate the gradient magnitude\n",
    "### Insert your code ###\n",
    "grad_mag2 = ...\n",
    "\n",
    "# Display the gradient magnitude map (provided)\n",
    "plt.imshow(grad_mag2, cmap='gray', vmin=0, vmax=100)\n",
    "plt.gcf().set_size_inches(8, 8)\n",
    "\n",
    "# Check the difference between the current gradient magnitude map\n",
    "# and the previous one produced without separable filtering. You\n",
    "# can report the mean difference between the two.\n",
    "### Insert your code ###"
   ]
  },
  {
   "cell_type": "markdown",
   "metadata": {},
   "source": [
    "### 2.7 Comment on the Gaussian + Sobel filtering results and the computational time."
   ]
  },
  {
   "cell_type": "markdown",
   "metadata": {},
   "source": [
    "### Insert your answer ###"
   ]
  },
  {
   "cell_type": "markdown",
   "metadata": {},
   "source": [
    "## 3. Challenge: Implement 2D image filters using Pytorch (24 points).\n",
    "\n",
    "[Pytorch](https://pytorch.org/) is a machine learning framework that supports filtering and convolution.\n",
    "\n",
    "The [Conv2D](https://pytorch.org/docs/stable/nn.html#conv2d) operator takes an input array of dimension NxC1xXxY, applies the filter and outputs an array of dimension NxC2xXxY. Here, since we only have one image with one colour channel, we will set N=1, C1=1 and C2=1. You can read the documentation of Conv2D for more detail."
   ]
  },
  {
   "cell_type": "code",
   "execution_count": null,
   "metadata": {},
   "outputs": [],
   "source": [
    "# Import libaries (provided)\n",
    "import torch"
   ]
  },
  {
   "cell_type": "markdown",
   "metadata": {},
   "source": [
    "### 3.1 Expand the dimension of the noisy image into 1x1xXxY and convert it to a Pytorch tensor."
   ]
  },
  {
   "cell_type": "code",
   "execution_count": null,
   "metadata": {},
   "outputs": [],
   "source": [
    "# Expand the dimension of the numpy array\n",
    "### Insert your code ###\n",
    "\n",
    "# Convert to a Pytorch tensor using torch.from_numpy\n",
    "### Insert your code ###"
   ]
  },
  {
   "cell_type": "markdown",
   "metadata": {},
   "source": [
    "### 3.2 Create a Pytorch Conv2D filter, set its kernel to be a 2D Gaussian filter and perform filtering."
   ]
  },
  {
   "cell_type": "code",
   "execution_count": null,
   "metadata": {},
   "outputs": [],
   "source": [
    "# A 2D Gaussian filter when sigma = 5 pixel (provided)\n",
    "sigma = 5\n",
    "h = gaussian_filter_2d(sigma)\n",
    "\n",
    "# Create the Conv2D filter\n",
    "### Insert your code ###\n",
    "\n",
    "# Filtering\n",
    "### Insert your code ###\n",
    "\n",
    "# Display the filtering result (provided)\n",
    "plt.imshow(image_filtered, cmap='gray')\n",
    "plt.gcf().set_size_inches(8, 8)"
   ]
  },
  {
   "cell_type": "markdown",
   "metadata": {},
   "source": [
    "### 3.3 Implement Pytorch Conv2D filters to perform Sobel filtering on Gaussian smoothed images, show the gradient magnitude map."
   ]
  },
  {
   "cell_type": "code",
   "execution_count": null,
   "metadata": {},
   "outputs": [],
   "source": [
    "# Create Conv2D filters\n",
    "### Insert your code ###\n",
    "\n",
    "# Perform filtering\n",
    "### Insert your code ###\n",
    "\n",
    "# Calculate the gradient magnitude map\n",
    "### Insert your code ###\n",
    "\n",
    "# Visualise the gradient magnitude map (provided)\n",
    "plt.imshow(grad_mag3, cmap='gray', vmin=0, vmax=100)\n",
    "plt.gcf().set_size_inches(8, 8)"
   ]
  },
  {
   "cell_type": "code",
   "execution_count": null,
   "metadata": {},
   "outputs": [],
   "source": []
  }
 ],
 "metadata": {
  "kernelspec": {
   "display_name": "Python 3 (ipykernel)",
   "language": "python",
   "name": "python3"
  },
  "language_info": {
   "codemirror_mode": {
    "name": "ipython",
    "version": 3
   },
   "file_extension": ".py",
   "mimetype": "text/x-python",
   "name": "python",
   "nbconvert_exporter": "python",
   "pygments_lexer": "ipython3",
   "version": "3.9.6"
  }
 },
 "nbformat": 4,
 "nbformat_minor": 4
}
